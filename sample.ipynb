{
 "cells": [
  {
   "cell_type": "code",
   "execution_count": 1,
   "metadata": {},
   "outputs": [],
   "source": [
    "CODE_TO_IDENTIFY = \"\"\"\n",
    "n = int(input(\"Enter the number of terms in the Fibonacci sequence: \"))\n",
    "print(\"Fibonacci sequence:\")\n",
    "for i in range(n):\n",
    "    print(fibonacci(i), end=\" \")\n",
    "\"\"\""
   ]
  },
  {
   "cell_type": "code",
   "execution_count": 2,
   "metadata": {},
   "outputs": [
    {
     "data": {
      "text/plain": [
       "'python'"
      ]
     },
     "execution_count": 2,
     "metadata": {},
     "output_type": "execute_result"
    }
   ],
   "source": [
    "import requests\n",
    "\n",
    "url = 'http://localhost/guesslang'\n",
    "myobj = {'text': CODE_TO_IDENTIFY}\n",
    "response = requests.post(url,json = myobj)\n",
    "\n",
    "import json\n",
    "res = json.loads(response.text)\n",
    "res\n"
   ]
  },
  {
   "cell_type": "code",
   "execution_count": 3,
   "metadata": {},
   "outputs": [
    {
     "data": {
      "text/plain": [
       "{'label': 'python', 'score': 0.9993395209312439}"
      ]
     },
     "execution_count": 3,
     "metadata": {},
     "output_type": "execute_result"
    }
   ],
   "source": [
    "import requests\n",
    "\n",
    "url = 'http://localhost/CodeBERT'\n",
    "myobj = {'text': CODE_TO_IDENTIFY}\n",
    "response = requests.post(url,json = myobj)\n",
    "\n",
    "import json\n",
    "res = json.loads(response.text)\n",
    "res\n"
   ]
  },
  {
   "cell_type": "code",
   "execution_count": 4,
   "metadata": {},
   "outputs": [],
   "source": [
    "import re\n",
    "\n",
    "# Sample text\n",
    "sample_text = \"\"\"\n",
    "Sure, I can provide you with simple implementations of the Fibonacci sequence in both C and Python.\n",
    "\n",
    "#include <stdio.h>\n",
    "int fibonacci(int n) {\n",
    "    if (n <= 1)\n",
    "        return n;\n",
    "    else\n",
    "        return fibonacci(n - 1) + fibonacci(n - 2);\n",
    "}\n",
    "\n",
    "int main() {\n",
    "    int n, i;\n",
    "    printf(\"Enter the number of terms in the Fibonacci sequence: \");\n",
    "    scanf(\"%d\", &n);\n",
    "    printf(\"Fibonacci sequence:\\n\");\n",
    "    for (i = 0; i < n; i++) {\n",
    "        printf(\"%d \", fibonacci(i));\n",
    "    }\n",
    "    return 0;\n",
    "}\n",
    "\n",
    "Python Implementation\n",
    "\n",
    "def fibonacci(n):\n",
    "    if n <= 1:\n",
    "        return n\n",
    "    else:\n",
    "        return fibonacci(n - 1) + fibonacci(n - 2)\n",
    "\n",
    "n = int(input(\"Enter the number of terms in the Fibonacci sequence: \"))\n",
    "print(\"Fibonacci sequence:\")\n",
    "for i in range(n):\n",
    "    print(fibonacci(i), end=\" \")\n",
    "In both implementations, the fibonacci function recursively calculates the Fibonacci sequence.\n",
    "\n",
    "The C version uses printf and scanf for input and output, while the Python version uses input and print.\n",
    "Note that these implementations are simple and may not be efficient for large values of n due to the recursive nature,\n",
    "which leads to repeated calculations. For more efficient implementations, you might want to consider using dynamic programming or memoization techniques.\n",
    "\"\"\"\n"
   ]
  },
  {
   "cell_type": "code",
   "execution_count": 4,
   "metadata": {},
   "outputs": [
    {
     "name": "stderr",
     "output_type": "stream",
     "text": [
      "c:\\Users\\st_cong\\Desktop\\Detect_SourceCode\\venv\\lib\\site-packages\\tqdm\\auto.py:21: TqdmWarning: IProgress not found. Please update jupyter and ipywidgets. See https://ipywidgets.readthedocs.io/en/stable/user_install.html\n",
      "  from .autonotebook import tqdm as notebook_tqdm\n"
     ]
    },
    {
     "name": "stdout",
     "output_type": "stream",
     "text": [
      "Sure, I can provide you with simple implementations of the Fibonacci sequence in both C and Python.\n",
      "----------------------------------------------------------------------------------------------------\n",
      "#include <stdio.h>\n",
      "int fibonacci(int n) {\n",
      "    if (n <= 1)\n",
      "        return n;\n",
      "    else\n",
      "        return fibonacci(n - 1) + fibonacci(n - 2);\n",
      "}\n",
      "----------------------------------------------------------------------------------------------------\n",
      "int main() {\n",
      "    int n, i;\n",
      "    printf(\"Enter the number of terms in the Fibonacci sequence: \");\n",
      "    scanf(\"%d\", &n);\n",
      "    printf(\"Fibonacci sequence:\\n\");\n",
      "    for (i = 0; i < n; i++) {\n",
      "        printf(\"%d \", fibonacci(i));\n",
      "    }\n",
      "    return 0;\n",
      "}\n",
      "----------------------------------------------------------------------------------------------------\n",
      "Python Implementation\n",
      "----------------------------------------------------------------------------------------------------\n",
      "def fibonacci(n):\n",
      "    if n <= 1:\n",
      "        return n\n",
      "    else:\n",
      "        return fibonacci(n - 1) + fibonacci(n - 2)\n",
      "----------------------------------------------------------------------------------------------------\n",
      "n = int(input(\"Enter the number of terms in the Fibonacci sequence: \"))\n",
      "print(\"Fibonacci sequence:\")\n",
      "for i in range(n):\n",
      "    print(fibonacci(i), end=\" \")\n",
      "----------------------------------------------------------------------------------------------------\n",
      "In both implementations, the fibonacci function recursively calculates the Fibonacci sequence.\n",
      "The C version uses printf and scanf for input and output, while the Python version uses input and print.\n",
      "Note that these implementations are simple and may not be efficient for large values of n due to the recursive nature,\n",
      "which leads to repeated calculations. For more efficient implementations, you might want to consider using dynamic programming or memoization techniques.\n",
      "----------------------------------------------------------------------------------------------------\n"
     ]
    }
   ],
   "source": [
    "sample_text = open(\"app/tests/sample.txt\", \"r\")\n",
    "sample_text = sample_text.read()\n",
    "\n",
    "from app.func import detect\n",
    "\n",
    "for i in detect.preprocess(sample_text):\n",
    "    print(i)\n",
    "    print('-'*100)"
   ]
  },
  {
   "cell_type": "code",
   "execution_count": 8,
   "metadata": {},
   "outputs": [
    {
     "data": {
      "text/plain": [
       "['']"
      ]
     },
     "execution_count": 8,
     "metadata": {},
     "output_type": "execute_result"
    }
   ],
   "source": [
    "detect.preprocess(0)\n",
    "detect.preprocess('')"
   ]
  },
  {
   "cell_type": "code",
   "execution_count": 6,
   "metadata": {},
   "outputs": [
    {
     "data": {
      "text/plain": [
       "{'SourceCode 0': {'language': 'c',\n",
       "  'source': '#include <stdio.h>\\nint fibonacci(int n) {\\n    if (n <= 1)\\n        return n;\\n    else\\n        return fibonacci(n - 1) + fibonacci(n - 2);\\n}'},\n",
       " 'SourceCode 1': {'language': 'c',\n",
       "  'source': 'int main() {\\n    int n, i;\\n    printf(\"Enter the number of terms in the Fibonacci sequence: \");\\n    scanf(\"%d\", &n);\\n    printf(\"Fibonacci sequence:\\n\");\\n    for (i = 0; i < n; i++) {\\n        printf(\"%d \", fibonacci(i));\\n    }\\n    return 0;\\n}'},\n",
       " 'SourceCode 2': {'language': 'python',\n",
       "  'source': 'def fibonacci(n):\\n    if n <= 1:\\n        return n\\n    else:\\n        return fibonacci(n - 1) + fibonacci(n - 2)'},\n",
       " 'SourceCode 3': {'language': 'python',\n",
       "  'source': 'n = int(input(\"Enter the number of terms in the Fibonacci sequence: \"))\\nprint(\"Fibonacci sequence:\")\\nfor i in range(n):\\n    print(fibonacci(i), end=\" \")'}}"
      ]
     },
     "execution_count": 6,
     "metadata": {},
     "output_type": "execute_result"
    }
   ],
   "source": [
    "import requests\n",
    "\n",
    "url = 'http://localhost/guesslang/extract'\n",
    "myobj = {'text': sample_text}\n",
    "response = requests.post(url,json = myobj)\n",
    "\n",
    "import json\n",
    "res = json.loads(response.text)\n",
    "res\n"
   ]
  },
  {
   "cell_type": "code",
   "execution_count": 7,
   "metadata": {},
   "outputs": [
    {
     "name": "stdout",
     "output_type": "stream",
     "text": [
      "{'SourceCode 0': {'language': 'c',\n",
      "                  'source': '#include <stdio.h>\\n'\n",
      "                            'int fibonacci(int n) {\\n'\n",
      "                            '    if (n <= 1)\\n'\n",
      "                            '        return n;\\n'\n",
      "                            '    else\\n'\n",
      "                            '        return fibonacci(n - 1) + fibonacci(n - '\n",
      "                            '2);\\n'\n",
      "                            '}'},\n",
      " 'SourceCode 1': {'language': 'c',\n",
      "                  'source': 'int main() {\\n'\n",
      "                            '    int n, i;\\n'\n",
      "                            '    printf(\"Enter the number of terms in the '\n",
      "                            'Fibonacci sequence: \");\\n'\n",
      "                            '    scanf(\"%d\", &n);\\n'\n",
      "                            '    printf(\"Fibonacci sequence:\\n'\n",
      "                            '\");\\n'\n",
      "                            '    for (i = 0; i < n; i++) {\\n'\n",
      "                            '        printf(\"%d \", fibonacci(i));\\n'\n",
      "                            '    }\\n'\n",
      "                            '    return 0;\\n'\n",
      "                            '}'},\n",
      " 'SourceCode 2': {'language': 'python',\n",
      "                  'source': 'def fibonacci(n):\\n'\n",
      "                            '    if n <= 1:\\n'\n",
      "                            '        return n\\n'\n",
      "                            '    else:\\n'\n",
      "                            '        return fibonacci(n - 1) + fibonacci(n - '\n",
      "                            '2)'},\n",
      " 'SourceCode 3': {'language': 'python',\n",
      "                  'source': 'n = int(input(\"Enter the number of terms in the '\n",
      "                            'Fibonacci sequence: \"))\\n'\n",
      "                            'print(\"Fibonacci sequence:\")\\n'\n",
      "                            'for i in range(n):\\n'\n",
      "                            '    print(fibonacci(i), end=\" \")'}}\n"
     ]
    }
   ],
   "source": [
    "import pprint\n",
    "pprint.pprint(res)"
   ]
  },
  {
   "cell_type": "code",
   "execution_count": 57,
   "metadata": {},
   "outputs": [
    {
     "data": {
      "text/plain": [
       "{'msg': 'No SourceCode found'}"
      ]
     },
     "execution_count": 57,
     "metadata": {},
     "output_type": "execute_result"
    }
   ],
   "source": [
    "import requests\n",
    "\n",
    "url = 'http://127.0.0.1:8000/guesslang/extract'\n",
    "myobj = {'text': 'a'}\n",
    "response = requests.post(url,json = myobj)\n",
    "\n",
    "import json\n",
    "res = json.loads(response.text)\n",
    "res\n"
   ]
  },
  {
   "cell_type": "code",
   "execution_count": 3,
   "metadata": {},
   "outputs": [
    {
     "name": "stdout",
     "output_type": "stream",
     "text": [
      "1\n",
      "5\n",
      "9\n"
     ]
    }
   ],
   "source": [
    "def generate_numbers():\n",
    "    yield 1\n",
    "    yield 5\n",
    "    yield 9\n",
    " \n",
    "for item in generate_numbers():\n",
    "    print(item)"
   ]
  },
  {
   "cell_type": "code",
   "execution_count": 4,
   "metadata": {},
   "outputs": [
    {
     "name": "stdout",
     "output_type": "stream",
     "text": [
      "4\n",
      "2\n"
     ]
    }
   ],
   "source": [
    "# Hàm in các số chẵn từ mảng arr\n",
    "def in_so_chan(arr):\n",
    "    for i in arr:\n",
    "        if i % 2 == 0:\n",
    "            yield i\n",
    " \n",
    "# Chương trình chính\n",
    "mang = [1,4,2,3,5,5,654,66,76,87,8]\n",
    "sochan = in_so_chan(mang)\n",
    "print(next(sochan))\n",
    "print(next(sochan))"
   ]
  },
  {
   "cell_type": "code",
   "execution_count": 5,
   "metadata": {},
   "outputs": [
    {
     "name": "stdout",
     "output_type": "stream",
     "text": [
      "1\n",
      "4\n",
      "9\n",
      "16\n",
      "25\n",
      "36\n",
      "49\n",
      "64\n",
      "81\n",
      "100\n"
     ]
    }
   ],
   "source": [
    "def nextSquare(): \n",
    "    i = 1; \n",
    "  \n",
    "    # An Infinite loop to generate squares  \n",
    "    while True: \n",
    "        yield i*i                 \n",
    "        i += 1  # Next execution resumes  \n",
    "                # from this point      \n",
    "  \n",
    "# Driver code to test above generator  \n",
    "# function \n",
    "for num in nextSquare(): \n",
    "    if num > 100: \n",
    "         break    \n",
    "    print(num)"
   ]
  },
  {
   "cell_type": "code",
   "execution_count": null,
   "metadata": {},
   "outputs": [],
   "source": []
  }
 ],
 "metadata": {
  "kernelspec": {
   "display_name": "venv",
   "language": "python",
   "name": "python3"
  },
  "language_info": {
   "codemirror_mode": {
    "name": "ipython",
    "version": 3
   },
   "file_extension": ".py",
   "mimetype": "text/x-python",
   "name": "python",
   "nbconvert_exporter": "python",
   "pygments_lexer": "ipython3",
   "version": "3.9.10"
  }
 },
 "nbformat": 4,
 "nbformat_minor": 2
}
