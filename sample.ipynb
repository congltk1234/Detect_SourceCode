{
 "cells": [
  {
   "cell_type": "code",
   "execution_count": 1,
   "metadata": {},
   "outputs": [],
   "source": [
    "CODE_TO_IDENTIFY = \"\"\"\n",
    "def f(x):\n",
    "    return x**2\n",
    "\"\"\""
   ]
  },
  {
   "cell_type": "code",
   "execution_count": 2,
   "metadata": {},
   "outputs": [
    {
     "name": "stderr",
     "output_type": "stream",
     "text": [
      "c:\\Users\\LENOVO\\Desktop\\shuup\\Detect_SourceCode\\venv\\lib\\site-packages\\tqdm\\auto.py:21: TqdmWarning: IProgress not found. Please update jupyter and ipywidgets. See https://ipywidgets.readthedocs.io/en/stable/user_install.html\n",
      "  from .autonotebook import tqdm as notebook_tqdm\n",
      "pytorch_model.bin: 100%|██████████| 336M/336M [01:30<00:00, 3.70MB/s] \n",
      "Some weights of the model checkpoint at huggingface/CodeBERTa-language-id were not used when initializing RobertaForSequenceClassification: ['roberta.pooler.dense.bias', 'roberta.pooler.dense.weight']\n",
      "- This IS expected if you are initializing RobertaForSequenceClassification from the checkpoint of a model trained on another task or with another architecture (e.g. initializing a BertForSequenceClassification model from a BertForPreTraining model).\n",
      "- This IS NOT expected if you are initializing RobertaForSequenceClassification from the checkpoint of a model that you expect to be exactly identical (initializing a BertForSequenceClassification model from a BertForSequenceClassification model).\n",
      "Some weights of the model checkpoint at huggingface/CodeBERTa-language-id were not used when initializing RobertaForSequenceClassification: ['roberta.pooler.dense.bias', 'roberta.pooler.dense.weight']\n",
      "- This IS expected if you are initializing RobertaForSequenceClassification from the checkpoint of a model trained on another task or with another architecture (e.g. initializing a BertForSequenceClassification model from a BertForPreTraining model).\n",
      "- This IS NOT expected if you are initializing RobertaForSequenceClassification from the checkpoint of a model that you expect to be exactly identical (initializing a BertForSequenceClassification model from a BertForSequenceClassification model).\n"
     ]
    },
    {
     "data": {
      "text/plain": [
       "[{'label': 'python', 'score': 0.999995231628418}]"
      ]
     },
     "execution_count": 2,
     "metadata": {},
     "output_type": "execute_result"
    }
   ],
   "source": [
    "from transformers import TextClassificationPipeline,RobertaTokenizer, RobertaForSequenceClassification\n",
    "\n",
    "CODEBERTA_LANGUAGE_ID = \"huggingface/CodeBERTa-language-id\"\n",
    "\n",
    "tokenizer = RobertaTokenizer.from_pretrained(CODEBERTA_LANGUAGE_ID)\n",
    "model = RobertaForSequenceClassification.from_pretrained(CODEBERTA_LANGUAGE_ID)\n",
    "\n",
    "pipeline = TextClassificationPipeline(\n",
    "    model=RobertaForSequenceClassification.from_pretrained(CODEBERTA_LANGUAGE_ID),\n",
    "    tokenizer=RobertaTokenizer.from_pretrained(CODEBERTA_LANGUAGE_ID)\n",
    ")\n",
    "\n",
    "pipeline(CODE_TO_IDENTIFY)"
   ]
  },
  {
   "cell_type": "code",
   "execution_count": 6,
   "metadata": {},
   "outputs": [
    {
     "name": "stdout",
     "output_type": "stream",
     "text": [
      "Name: torch\n",
      "Version: 2.1.1\n",
      "Summary: Tensors and Dynamic neural networks in Python with strong GPU acceleration\n",
      "Home-page: https://pytorch.org/\n",
      "Author: PyTorch Team\n",
      "Author-email: packages@pytorch.org\n",
      "License: BSD-3\n",
      "Location: c:\\users\\lenovo\\desktop\\shuup\\detect_sourcecode\\venv\\lib\\site-packages\n",
      "Requires: filelock, fsspec, jinja2, networkx, sympy, typing-extensions\n",
      "Required-by: \n"
     ]
    }
   ],
   "source": [
    "!pip show torch"
   ]
  },
  {
   "cell_type": "code",
   "execution_count": 5,
   "metadata": {},
   "outputs": [
    {
     "data": {
      "text/plain": [
       "'python'"
      ]
     },
     "execution_count": 5,
     "metadata": {},
     "output_type": "execute_result"
    }
   ],
   "source": [
    "pipeline(CODE_TO_IDENTIFY)[0]['label']"
   ]
  },
  {
   "cell_type": "code",
   "execution_count": 1,
   "metadata": {},
   "outputs": [],
   "source": [
    "import re\n",
    "\n",
    "# Sample text\n",
    "sample_text = \"\"\"\n",
    "Sure, I can provide you with simple implementations of the Fibonacci sequence in both C and Python.\n",
    "\n",
    "#include <stdio.h>\n",
    "int fibonacci(int n) {\n",
    "    if (n <= 1)\n",
    "        return n;\n",
    "    else\n",
    "        return fibonacci(n - 1) + fibonacci(n - 2);\n",
    "}\n",
    "\n",
    "int main() {\n",
    "    int n, i;\n",
    "    printf(\"Enter the number of terms in the Fibonacci sequence: \");\n",
    "    scanf(\"%d\", &n);\n",
    "    printf(\"Fibonacci sequence:\\n\");\n",
    "    for (i = 0; i < n; i++) {\n",
    "        printf(\"%d \", fibonacci(i));\n",
    "    }\n",
    "    return 0;\n",
    "}\n",
    "\n",
    "Python Implementation\n",
    "\n",
    "def fibonacci(n):\n",
    "    if n <= 1:\n",
    "        return n\n",
    "    else:\n",
    "        return fibonacci(n - 1) + fibonacci(n - 2)\n",
    "\n",
    "n = int(input(\"Enter the number of terms in the Fibonacci sequence: \"))\n",
    "print(\"Fibonacci sequence:\")\n",
    "for i in range(n):\n",
    "    print(fibonacci(i), end=\" \")\n",
    "\n",
    "In both implementations, the fibonacci function recursively calculates the Fibonacci sequence.\n",
    "The C version uses printf and scanf for input and output, while the Python version uses input and print.\n",
    "Note that these implementations are simple and may not be efficient for large values of n due to the recursive nature,\n",
    "which leads to repeated calculations. For more efficient implementations, you might want to consider using dynamic programming or memoization techniques.\n",
    "\"\"\"\n"
   ]
  },
  {
   "cell_type": "code",
   "execution_count": 2,
   "metadata": {},
   "outputs": [],
   "source": [
    "# Define Code Languages Scope:\n",
    "support_lang = ['Python', 'C', 'Java', 'JavaScript', 'PHP', 'Ruby', 'Go', 'HTML', 'CSS']"
   ]
  },
  {
   "cell_type": "code",
   "execution_count": 3,
   "metadata": {},
   "outputs": [
    {
     "data": {
      "text/plain": [
       "{'SourceCode 0': {'language': 'C',\n",
       "  'source': '#include <stdio.h>\\nint fibonacci(int n) {\\n    if (n <= 1)\\n        return n;\\n    else\\n        return fibonacci(n - 1) + fibonacci(n - 2);\\n}'},\n",
       " 'SourceCode 1': {'language': 'C',\n",
       "  'source': 'int main() {\\n    int n, i;\\n    printf(\"Enter the number of terms in the Fibonacci sequence: \");\\n    scanf(\"%d\", &n);\\n    printf(\"Fibonacci sequence:\\n\");\\n    for (i = 0; i < n; i++) {\\n        printf(\"%d \", fibonacci(i));\\n    }\\n    return 0;\\n}'},\n",
       " 'SourceCode 2': {'language': 'Python',\n",
       "  'source': 'def fibonacci(n):\\n    if n <= 1:\\n        return n\\n    else:\\n        return fibonacci(n - 1) + fibonacci(n - 2)'},\n",
       " 'SourceCode 3': {'language': 'Python',\n",
       "  'source': 'n = int(input(\"Enter the number of terms in the Fibonacci sequence: \"))\\nprint(\"Fibonacci sequence:\")\\nfor i in range(n):\\n    print(fibonacci(i), end=\" \")'}}"
      ]
     },
     "execution_count": 3,
     "metadata": {},
     "output_type": "execute_result"
    }
   ],
   "source": [
    "from func import detect\n",
    "\n",
    "detect.guessLang(sample_text)"
   ]
  },
  {
   "cell_type": "code",
   "execution_count": 49,
   "metadata": {},
   "outputs": [],
   "source": [
    "from func import detect\n",
    "\n",
    "from guesslang import Guess\n",
    "\n",
    "guess = Guess()\n",
    "\n",
    "response = {}\n",
    "count = 0\n",
    "\n",
    "for block in detect.preprocess(sample_text):\n",
    "    # name = detect.guessLang(block)\n",
    "    name = guess.language_name(block+'\\n')\n",
    "    if name not in support_lang:\n",
    "        name = 'Not SourceCode'\n",
    "        # print(name)\n",
    "    else:\n",
    "        # print(f'SourceCode {count}:\\nLanguage:{name}\\n{block}')\n",
    "        # print('='*50)\n",
    "        response[f'SourceCode {count}'] = {'language':name, 'source':block}\n",
    "        count+=1"
   ]
  },
  {
   "cell_type": "code",
   "execution_count": 50,
   "metadata": {},
   "outputs": [
    {
     "data": {
      "text/plain": [
       "{'SourceCode 0': {'language': 'C',\n",
       "  'source': '#include <stdio.h>\\nint fibonacci(int n) {\\n    if (n <= 1)\\n        return n;\\n    else\\n        return fibonacci(n - 1) + fibonacci(n - 2);\\n}'},\n",
       " 'SourceCode 1': {'language': 'C',\n",
       "  'source': 'int main() {\\n    int n, i;\\n    printf(\"Enter the number of terms in the Fibonacci sequence: \");\\n    scanf(\"%d\", &n);\\n    printf(\"Fibonacci sequence:\\n\");\\n    for (i = 0; i < n; i++) {\\n        printf(\"%d \", fibonacci(i));\\n    }\\n    return 0;\\n}'},\n",
       " 'SourceCode 2': {'language': 'Python',\n",
       "  'source': 'def fibonacci(n):\\n    if n <= 1:\\n        return n\\n    else:\\n        return fibonacci(n - 1) + fibonacci(n - 2)'},\n",
       " 'SourceCode 3': {'language': 'Python',\n",
       "  'source': 'n = int(input(\"Enter the number of terms in the Fibonacci sequence: \"))\\nprint(\"Fibonacci sequence:\")\\nfor i in range(n):\\n    print(fibonacci(i), end=\" \")'}}"
      ]
     },
     "execution_count": 50,
     "metadata": {},
     "output_type": "execute_result"
    }
   ],
   "source": [
    "response"
   ]
  },
  {
   "cell_type": "code",
   "execution_count": 20,
   "metadata": {},
   "outputs": [
    {
     "data": {
      "text/plain": [
       "{'SourceCode 0': {'language': 'C',\n",
       "  'source': '#include <stdio.h>\\nint fibonacci(int n) {\\n    if (n <= 1)\\n        return n;\\n    else\\n        return fibonacci(n - 1) + fibonacci(n - 2);\\n}'},\n",
       " 'SourceCode 1': {'language': 'C',\n",
       "  'source': 'int main() {\\n    int n, i;\\n    printf(\"Enter the number of terms in the Fibonacci sequence: \");\\n    scanf(\"%d\", &n);\\n    printf(\"Fibonacci sequence:\\n\");\\n    for (i = 0; i < n; i++) {\\n        printf(\"%d \", fibonacci(i));\\n    }\\n    return 0;\\n}'},\n",
       " 'SourceCode 2': {'language': 'Python',\n",
       "  'source': 'def fibonacci(n):\\n    if n <= 1:\\n        return n\\n    else:\\n        return fibonacci(n - 1) + fibonacci(n - 2)'},\n",
       " 'SourceCode 3': {'language': 'Python',\n",
       "  'source': 'n = int(input(\"Enter the number of terms in the Fibonacci sequence: \"))\\nprint(\"Fibonacci sequence:\")\\nfor i in range(n):\\n    print(fibonacci(i), end=\" \")'}}"
      ]
     },
     "execution_count": 20,
     "metadata": {},
     "output_type": "execute_result"
    }
   ],
   "source": [
    "import requests\n",
    "\n",
    "url = 'http://127.0.0.1:8000/guesslang'\n",
    "myobj = {'text': sample_text}\n",
    "response = requests.post(url,json = myobj)\n",
    "\n",
    "\n",
    "import json\n",
    "res = json.loads(response.text)\n",
    "res\n"
   ]
  },
  {
   "cell_type": "code",
   "execution_count": null,
   "metadata": {},
   "outputs": [],
   "source": []
  }
 ],
 "metadata": {
  "kernelspec": {
   "display_name": "venv",
   "language": "python",
   "name": "python3"
  },
  "language_info": {
   "codemirror_mode": {
    "name": "ipython",
    "version": 3
   },
   "file_extension": ".py",
   "mimetype": "text/x-python",
   "name": "python",
   "nbconvert_exporter": "python",
   "pygments_lexer": "ipython3",
   "version": "3.9.12"
  }
 },
 "nbformat": 4,
 "nbformat_minor": 2
}
