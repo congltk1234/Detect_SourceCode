{
 "cells": [
  {
   "cell_type": "code",
   "execution_count": 51,
   "metadata": {},
   "outputs": [],
   "source": [
    "CODE_TO_IDENTIFY = \"\"\"\n",
    "n = int(input(\"Enter the number of terms in the Fibonacci sequence: \"))\n",
    "print(\"Fibonacci sequence:\")\n",
    "for i in range(n):\n",
    "    print(fibonacci(i), end=\" \")\n",
    "\"\"\""
   ]
  },
  {
   "cell_type": "code",
   "execution_count": 52,
   "metadata": {},
   "outputs": [
    {
     "data": {
      "text/plain": [
       "'python'"
      ]
     },
     "execution_count": 52,
     "metadata": {},
     "output_type": "execute_result"
    }
   ],
   "source": [
    "import requests\n",
    "\n",
    "url = 'http://127.0.0.1:8000/guesslang'\n",
    "myobj = {'text': CODE_TO_IDENTIFY}\n",
    "response = requests.post(url,json = myobj)\n",
    "\n",
    "import json\n",
    "res = json.loads(response.text)\n",
    "res\n"
   ]
  },
  {
   "cell_type": "code",
   "execution_count": 53,
   "metadata": {},
   "outputs": [
    {
     "data": {
      "text/plain": [
       "{'label': 'python', 'score': 0.9993395209312439}"
      ]
     },
     "execution_count": 53,
     "metadata": {},
     "output_type": "execute_result"
    }
   ],
   "source": [
    "import requests\n",
    "\n",
    "url = 'http://127.0.0.1:8000/CodeBERT'\n",
    "myobj = {'text': CODE_TO_IDENTIFY}\n",
    "response = requests.post(url,json = myobj)\n",
    "\n",
    "import json\n",
    "res = json.loads(response.text)\n",
    "res\n"
   ]
  },
  {
   "cell_type": "code",
   "execution_count": 54,
   "metadata": {},
   "outputs": [],
   "source": [
    "import re\n",
    "\n",
    "# Sample text\n",
    "sample_text = \"\"\"\n",
    "Sure, I can provide you with simple implementations of the Fibonacci sequence in both C and Python.\n",
    "\n",
    "#include <stdio.h>\n",
    "int fibonacci(int n) {\n",
    "    if (n <= 1)\n",
    "        return n;\n",
    "    else\n",
    "        return fibonacci(n - 1) + fibonacci(n - 2);\n",
    "}\n",
    "\n",
    "int main() {\n",
    "    int n, i;\n",
    "    printf(\"Enter the number of terms in the Fibonacci sequence: \");\n",
    "    scanf(\"%d\", &n);\n",
    "    printf(\"Fibonacci sequence:\\n\");\n",
    "    for (i = 0; i < n; i++) {\n",
    "        printf(\"%d \", fibonacci(i));\n",
    "    }\n",
    "    return 0;\n",
    "}\n",
    "\n",
    "Python Implementation\n",
    "\n",
    "def fibonacci(n):\n",
    "    if n <= 1:\n",
    "        return n\n",
    "    else:\n",
    "        return fibonacci(n - 1) + fibonacci(n - 2)\n",
    "\n",
    "n = int(input(\"Enter the number of terms in the Fibonacci sequence: \"))\n",
    "print(\"Fibonacci sequence:\")\n",
    "for i in range(n):\n",
    "    print(fibonacci(i), end=\" \")\n",
    "\n",
    "In both implementations, the fibonacci function recursively calculates the Fibonacci sequence.\n",
    "The C version uses printf and scanf for input and output, while the Python version uses input and print.\n",
    "Note that these implementations are simple and may not be efficient for large values of n due to the recursive nature,\n",
    "which leads to repeated calculations. For more efficient implementations, you might want to consider using dynamic programming or memoization techniques.\n",
    "\"\"\"\n"
   ]
  },
  {
   "cell_type": "code",
   "execution_count": 55,
   "metadata": {},
   "outputs": [
    {
     "data": {
      "text/plain": [
       "{'SourceCode 0': {'language': 'c',\n",
       "  'source': '#include <stdio.h>\\nint fibonacci(int n) {\\n    if (n <= 1)\\n        return n;\\n    else\\n        return fibonacci(n - 1) + fibonacci(n - 2);\\n}'},\n",
       " 'SourceCode 1': {'language': 'c',\n",
       "  'source': 'int main() {\\n    int n, i;\\n    printf(\"Enter the number of terms in the Fibonacci sequence: \");\\n    scanf(\"%d\", &n);\\n    printf(\"Fibonacci sequence:\\n\");\\n    for (i = 0; i < n; i++) {\\n        printf(\"%d \", fibonacci(i));\\n    }\\n    return 0;\\n}'},\n",
       " 'SourceCode 2': {'language': 'python',\n",
       "  'source': 'def fibonacci(n):\\n    if n <= 1:\\n        return n\\n    else:\\n        return fibonacci(n - 1) + fibonacci(n - 2)'},\n",
       " 'SourceCode 3': {'language': 'python',\n",
       "  'source': 'n = int(input(\"Enter the number of terms in the Fibonacci sequence: \"))\\nprint(\"Fibonacci sequence:\")\\nfor i in range(n):\\n    print(fibonacci(i), end=\" \")'}}"
      ]
     },
     "execution_count": 55,
     "metadata": {},
     "output_type": "execute_result"
    }
   ],
   "source": [
    "import requests\n",
    "\n",
    "url = 'http://127.0.0.1:8000/guesslang/extract'\n",
    "myobj = {'text': sample_text}\n",
    "response = requests.post(url,json = myobj)\n",
    "\n",
    "import json\n",
    "res = json.loads(response.text)\n",
    "res\n"
   ]
  },
  {
   "cell_type": "code",
   "execution_count": 56,
   "metadata": {},
   "outputs": [
    {
     "name": "stdout",
     "output_type": "stream",
     "text": [
      "{'SourceCode 0': {'language': 'c',\n",
      "                  'source': '#include <stdio.h>\\n'\n",
      "                            'int fibonacci(int n) {\\n'\n",
      "                            '    if (n <= 1)\\n'\n",
      "                            '        return n;\\n'\n",
      "                            '    else\\n'\n",
      "                            '        return fibonacci(n - 1) + fibonacci(n - '\n",
      "                            '2);\\n'\n",
      "                            '}'},\n",
      " 'SourceCode 1': {'language': 'c',\n",
      "                  'source': 'int main() {\\n'\n",
      "                            '    int n, i;\\n'\n",
      "                            '    printf(\"Enter the number of terms in the '\n",
      "                            'Fibonacci sequence: \");\\n'\n",
      "                            '    scanf(\"%d\", &n);\\n'\n",
      "                            '    printf(\"Fibonacci sequence:\\n'\n",
      "                            '\");\\n'\n",
      "                            '    for (i = 0; i < n; i++) {\\n'\n",
      "                            '        printf(\"%d \", fibonacci(i));\\n'\n",
      "                            '    }\\n'\n",
      "                            '    return 0;\\n'\n",
      "                            '}'},\n",
      " 'SourceCode 2': {'language': 'python',\n",
      "                  'source': 'def fibonacci(n):\\n'\n",
      "                            '    if n <= 1:\\n'\n",
      "                            '        return n\\n'\n",
      "                            '    else:\\n'\n",
      "                            '        return fibonacci(n - 1) + fibonacci(n - '\n",
      "                            '2)'},\n",
      " 'SourceCode 3': {'language': 'python',\n",
      "                  'source': 'n = int(input(\"Enter the number of terms in the '\n",
      "                            'Fibonacci sequence: \"))\\n'\n",
      "                            'print(\"Fibonacci sequence:\")\\n'\n",
      "                            'for i in range(n):\\n'\n",
      "                            '    print(fibonacci(i), end=\" \")'}}\n"
     ]
    }
   ],
   "source": [
    "import pprint\n",
    "pprint.pprint(res)"
   ]
  },
  {
   "cell_type": "code",
   "execution_count": 57,
   "metadata": {},
   "outputs": [
    {
     "data": {
      "text/plain": [
       "{'msg': 'No SourceCode found'}"
      ]
     },
     "execution_count": 57,
     "metadata": {},
     "output_type": "execute_result"
    }
   ],
   "source": [
    "import requests\n",
    "\n",
    "url = 'http://127.0.0.1:8000/guesslang/extract'\n",
    "myobj = {'text': 'a'}\n",
    "response = requests.post(url,json = myobj)\n",
    "\n",
    "import json\n",
    "res = json.loads(response.text)\n",
    "res\n"
   ]
  },
  {
   "cell_type": "code",
   "execution_count": null,
   "metadata": {},
   "outputs": [],
   "source": []
  },
  {
   "cell_type": "code",
   "execution_count": null,
   "metadata": {},
   "outputs": [],
   "source": []
  }
 ],
 "metadata": {
  "kernelspec": {
   "display_name": "venv",
   "language": "python",
   "name": "python3"
  },
  "language_info": {
   "codemirror_mode": {
    "name": "ipython",
    "version": 3
   },
   "file_extension": ".py",
   "mimetype": "text/x-python",
   "name": "python",
   "nbconvert_exporter": "python",
   "pygments_lexer": "ipython3",
   "version": "3.9.12"
  }
 },
 "nbformat": 4,
 "nbformat_minor": 2
}
